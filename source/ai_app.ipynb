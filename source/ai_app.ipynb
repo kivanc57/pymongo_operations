{
 "cells": [
  {
   "cell_type": "code",
   "execution_count": 2,
   "metadata": {},
   "outputs": [],
   "source": [
    "import os\n",
    "import requests\n",
    "\n",
    "from db_connection import get_client"
   ]
  },
  {
   "cell_type": "code",
   "execution_count": 3,
   "metadata": {},
   "outputs": [
    {
     "name": "stdout",
     "output_type": "stream",
     "text": [
      "Connection to MongoDB is succesful!\n"
     ]
    }
   ],
   "source": [
    "client = get_client()\n",
    "hf_token = os.getenv('HF_TOKEN')\n",
    "embedding_url = os.getenv('EMBEDDING_URL')\n",
    "collection = client.sample_mflix.movies"
   ]
  },
  {
   "cell_type": "code",
   "execution_count": 11,
   "metadata": {},
   "outputs": [
    {
     "name": "stdout",
     "output_type": "stream",
     "text": [
      "[-0.014143984764814377, -0.020810438320040703, -0.062023792415857315]\n"
     ]
    }
   ],
   "source": [
    "def generate_embedding(text):\n",
    "    response = requests.post(\n",
    "        embedding_url,\n",
    "        headers={\"Authorization\": f\"Bearer {hf_token}\"},\n",
    "        json={\"inputs\": text}\n",
    "    )\n",
    "    return response.json()\n",
    "\n",
    "# Test the function with the text \"MongoDB is awesome!\"\n",
    "embedding = generate_embedding(\"MongoDB is awesome!\")\n",
    "print(embedding[:3])"
   ]
  },
  {
   "cell_type": "code",
   "execution_count": 21,
   "metadata": {},
   "outputs": [],
   "source": [
    "# Create vector embeddings for 50 docs in dataset, that have the field 'plot'.\n",
    "# Store the result as 'plot_embedding_f' in db\n",
    "\n",
    "for doc in collection.find({'plot':{\"$exists\": True}}).limit(50):\n",
    "\tdoc['plot_embedding_hf'] = generate_embedding(doc['plot'])\n",
    "\tcollection.replace_one({'_id': doc['_id']}, doc)"
   ]
  },
  {
   "cell_type": "code",
   "execution_count": 22,
   "metadata": {},
   "outputs": [
    {
     "name": "stdout",
     "output_type": "stream",
     "text": [
      "Movie Name: Four Sons,\n",
      "Movie Plot: A family saga in which three of a Bavarian widow's sons go to war for Germany and the fourth goes to America, Germany's eventual opponent.\n",
      "\n",
      "Movie Name: The Strong Man,\n",
      "Movie Plot: A meek Belgian soldier (Harry Langdon) fighting in World War I receives penpal letters and a photo from \"Mary Brown\", an American girl he has never met. He becomes infatuated with her by ...\n",
      "\n",
      "Movie Name: The Four Horsemen of the Apocalypse,\n",
      "Movie Plot: An extended family split up in France and Germany find themselves on opposing sides of the battlefield during World War I.\n",
      "\n",
      "Movie Name: In the Land of the Head Hunters,\n",
      "Movie Plot: Original advertising for the film describes it as a drama of primitive life on the shores of the North Pacific...\n",
      "\n"
     ]
    }
   ],
   "source": [
    "query = \"imaginary characters from outer space at war\"\n",
    "\n",
    "results = collection.aggregate([\n",
    "  {\"$vectorSearch\": {\n",
    "    \"queryVector\": generate_embedding(query),\n",
    "    \"path\": \"plot_embedding_hf\",\n",
    "    \"numCandidates\": 100,\n",
    "    \"limit\": 4,\n",
    "    \"index\": \"PlotSemanticSearch\",\n",
    "      }}\n",
    "]);\n",
    "\n",
    "for document in results:\n",
    "    print(f'Movie Name: {document[\"title\"]},\\nMovie Plot: {document[\"plot\"]}\\n')"
   ]
  }
 ],
 "metadata": {
  "kernelspec": {
   "display_name": "venv",
   "language": "python",
   "name": "python3"
  },
  "language_info": {
   "codemirror_mode": {
    "name": "ipython",
    "version": 3
   },
   "file_extension": ".py",
   "mimetype": "text/x-python",
   "name": "python",
   "nbconvert_exporter": "python",
   "pygments_lexer": "ipython3",
   "version": "3.12.3"
  }
 },
 "nbformat": 4,
 "nbformat_minor": 2
}
