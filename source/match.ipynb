{
 "cells": [
  {
   "cell_type": "code",
   "execution_count": 3,
   "metadata": {},
   "outputs": [],
   "source": [
    "from db_connection import get_client\n",
    "from utils import *"
   ]
  },
  {
   "cell_type": "code",
   "execution_count": 4,
   "metadata": {},
   "outputs": [
    {
     "name": "stdout",
     "output_type": "stream",
     "text": [
      "Connection to MongoDB is succesful!\n"
     ]
    }
   ],
   "source": [
    "printer = get_printer()\n",
    "client = get_client()\n",
    "\n",
    "question_collection = client.random_db.random_collectio"
   ]
  },
  {
   "cell_type": "code",
   "execution_count": 5,
   "metadata": {},
   "outputs": [
    {
     "name": "stdout",
     "output_type": "stream",
     "text": [
      "[{'_id': ObjectId('67813c00cf41db2897d1e1c5'),\n",
      "  'answer': 'Python',\n",
      "  'category': 'Technology',\n",
      "  'question': 'What programming language is known for its snake logo?',\n",
      "  'value': 100},\n",
      " {'_id': ObjectId('67813b6ecf41db2897d1e18b'),\n",
      "  'answer': 'Central Processing Unit',\n",
      "  'category': 'Technology',\n",
      "  'question': 'What does CPU stand for?',\n",
      "  'value': 100},\n",
      " {'_id': ObjectId('67813b6ecf41db2897d1e196'),\n",
      "  'answer': 'Hypertext Transfer Protocol',\n",
      "  'category': 'Technology',\n",
      "  'question': 'What does HTTP stand for?',\n",
      "  'value': 200}]\n"
     ]
    }
   ],
   "source": [
    "fuzzy_match_pipeline = [\n",
    "{\n",
    "\t\"$search\": {\n",
    "  \"index\": \"language_search\",\n",
    "\t\"text\": {\n",
    "    \"query\": \"technoly\",\n",
    "\t\t\"path\": \"category\",\n",
    "\t\t\"fuzzy\": {}  # Fuzzy search for flexible search - (optional)\n",
    "      }\n",
    "\t\t}\n",
    "\t}\n",
    "]\n",
    "\n",
    "aggregate(question_collection, fuzzy_match_pipeline, printer)"
   ]
  },
  {
   "cell_type": "code",
   "execution_count": 15,
   "metadata": {},
   "outputs": [
    {
     "name": "stdout",
     "output_type": "stream",
     "text": [
      "[{'_id': ObjectId('67813b6ecf41db2897d1e186'),\n",
      "  'answer': 'append()',\n",
      "  'category': 'Python',\n",
      "  'question': 'What is the method in Python to add an item to a list?',\n",
      "  'value': 200},\n",
      " {'_id': ObjectId('67813b6ecf41db2897d1e183'),\n",
      "  'answer': 'A NoSQL database that uses JSON-like documents.',\n",
      "  'category': 'Databases',\n",
      "  'question': 'What is MongoDB?',\n",
      "  'value': 200},\n",
      " {'_id': ObjectId('67813b6ecf41db2897d1e185'),\n",
      "  'answer': 'Structured Query Language',\n",
      "  'category': 'Databases',\n",
      "  'question': 'What does SQL stand for?',\n",
      "  'value': 100}]\n"
     ]
    }
   ],
   "source": [
    "synonym_pipeline = [\n",
    "{\n",
    "\t\"$search\": {\n",
    "\t\t\"index\": \"language_search\",\n",
    "    \"text\": {\n",
    "      \"query\": \"Python\",\n",
    "\t\t\t\"path\": \"category\",\n",
    "\t\t\t\"synonyms\": \"synonyms_mapping\"\n",
    "      }\n",
    "\t\t}\n",
    "\t},\n",
    "  \t{\n",
    "    \t\"$limit\": 3\n",
    "\t\t}\n",
    "]\n",
    "\n",
    "\n",
    "aggregate(question_collection, synonym_pipeline, printer)"
   ]
  },
  {
   "cell_type": "code",
   "execution_count": 17,
   "metadata": {},
   "outputs": [
    {
     "name": "stdout",
     "output_type": "stream",
     "text": [
      "[{'_id': ObjectId('67813b6ecf41db2897d1e186'),\n",
      "  'answer': 'append()',\n",
      "  'category': 'Python',\n",
      "  'question': 'What is the method in Python to add an item to a list?',\n",
      "  'value': 200},\n",
      " {'_id': ObjectId('67813b6ecf41db2897d1e183'),\n",
      "  'answer': 'A NoSQL database that uses JSON-like documents.',\n",
      "  'category': 'Databases',\n",
      "  'question': 'What is MongoDB?',\n",
      "  'value': 200},\n",
      " {'_id': ObjectId('67813b6ecf41db2897d1e185'),\n",
      "  'answer': 'Structured Query Language',\n",
      "  'category': 'Databases',\n",
      "  'question': 'What does SQL stand for?',\n",
      "  'value': 100}]\n"
     ]
    }
   ],
   "source": [
    "autocomplete_pipeline = [\n",
    "{\n",
    "\t\"$search\": {\n",
    "    \"index\": \"language_search\",\n",
    "    \"autocomplete\": {\n",
    "      \"query\": \"What does \",\n",
    "      \"path\": \"question\",\n",
    "      \"tokenOrder\": \"sequential\",\n",
    "      \"fuzzy\": {}\n",
    "      }\n",
    "\t\t}\n",
    "\t},\n",
    "  {\n",
    "\t  \"$project\": {\n",
    "      \"_id\": 0,\n",
    "\t\t\t\"question\": 1\n",
    "    }\n",
    "\t}\n",
    "]\n",
    "\n",
    "aggregate(question_collection, synonym_pipeline, printer)"
   ]
  },
  {
   "cell_type": "code",
   "execution_count": 19,
   "metadata": {},
   "outputs": [
    {
     "name": "stdout",
     "output_type": "stream",
     "text": [
      "[{'_id': ObjectId('67813c00cf41db2897d1e1ca'),\n",
      "  'answer': '32°F',\n",
      "  'category': 'Physics',\n",
      "  'question': 'What is the freezing point of water in Fahrenheit?',\n",
      "  'score': 1.2276027202606201},\n",
      " {'_id': ObjectId('67813b6ecf41db2897d1e194'),\n",
      "  'answer': 'Albert Einstein',\n",
      "  'category': 'Physics',\n",
      "  'question': 'Who developed the theory of relativity?',\n",
      "  'score': 1.2276027202606201},\n",
      " {'_id': ObjectId('67813b6ecf41db2897d1e18d'),\n",
      "  'answer': 'Approximately 299,792 kilometers per second.',\n",
      "  'category': 'Physics',\n",
      "  'question': 'What is the speed of light?',\n",
      "  'score': 1.2276027202606201}]\n"
     ]
    }
   ],
   "source": [
    "compound_query = [\n",
    "  {\n",
    "  \"$search\": {\n",
    "    \"index\": \"language_search\",\n",
    "    \"compound\": {\n",
    "    \"must\": [\n",
    "      {\n",
    "        \"text\": {\n",
    "          \"query\": [\"Geography\", \"Physics\", \"Biology\", \"Chemistry\"],\n",
    "          \"path\": \"category\"\n",
    "          }\n",
    "      }\n",
    "\t\t\t\t\t\t],\n",
    "    \"mustNot\": [\n",
    "      {\n",
    "        \"text\": {\n",
    "          \"query\": [\"Python\", \"Databases\"],\n",
    "          \"path\": \"category\"\n",
    "          }\n",
    "      }\n",
    "    ],\n",
    "    \"should\": [\n",
    "      {\n",
    "        \"text\": {\n",
    "          \"query\": \"Technology\",\n",
    "          \"path\": \"answer\"\n",
    "          }\n",
    "        }\n",
    "      ]\n",
    "    }\n",
    "\t\t\t}\n",
    "\t\t\t\t},\n",
    "  {\n",
    "  \"$project\": {\n",
    "    \"question\": 1,\n",
    "    \"answer\": 1,\n",
    "    \"category\": 1,\n",
    "    \"score\": { \"$meta\": \"searchScore\" }\n",
    "    }\n",
    "  },\n",
    "  {\n",
    "    \"$limit\": 3\n",
    "  }\n",
    "]\n",
    "\n",
    "aggregate(question_collection, compound_query, printer)"
   ]
  },
  {
   "cell_type": "code",
   "execution_count": 21,
   "metadata": {},
   "outputs": [
    {
     "name": "stdout",
     "output_type": "stream",
     "text": [
      "[{'_id': ObjectId('67813b6ecf41db2897d1e187'),\n",
      "  'answer': 'Paris',\n",
      "  'category': 'Geography',\n",
      "  'question': 'What is the capital of France?',\n",
      "  'score': 0.8210218548774719},\n",
      " {'_id': ObjectId('67813c00cf41db2897d1e1bd'),\n",
      "  'answer': 'Tokyo',\n",
      "  'category': 'Geography',\n",
      "  'question': 'What is the capital of Japan?',\n",
      "  'score': 0.8210218548774719},\n",
      " {'_id': ObjectId('67813c00cf41db2897d1e1c6'),\n",
      "  'answer': 'The Nile River',\n",
      "  'category': 'Geography',\n",
      "  'question': 'What is the longest river in the world?',\n",
      "  'score': 0.8210218548774719}]\n"
     ]
    }
   ],
   "source": [
    "relevence_pipeline =[\n",
    "{\n",
    "\t\"$search\": {\n",
    "\t\t\"index\": \"language_search\",\n",
    "\t\t\"compound\": {\n",
    "\t\t\t\"must\": [\n",
    "\t\t\t\t{\n",
    "\t\t\t\t\t\"text\": {\n",
    "\t\t\t\t\t\t\"query\": \"Geography\",\n",
    "\t\t\t\t\t\t\"path\": \"category\"\n",
    "\t\t\t\t\t}\n",
    "\t\t\t\t}\n",
    "\t\t\t],\n",
    "\t\t\t\"should\": [\n",
    "\t\t\t\t{\n",
    "\t\t\t\t\t\"text\": {\n",
    "\t\t\t\t\t\t\"query\": \"capital\",\n",
    "\t\t\t\t\t\t\"path\": \"question\",\n",
    "\t\t\t\t\t\t\"score\": { \"boost\": { \"value\": 3.0 } }\n",
    "\t\t\t\t\t\t}\n",
    "\t\t\t\t}\n",
    "\t\t\t\t\t]\n",
    "\t\t\t\t\t\t}\n",
    "\t\t\t\t\t\t\t}\n",
    "},\n",
    "{\n",
    "\t\"$project\": {\n",
    "\t\t\"question\": 1,\n",
    "\t\t\"answer\": 1,\n",
    "\t\t\"category\": 1,\n",
    "\t\t\"round\": 1,\n",
    "\t\t\"score\": { \"$meta\": \"searchScore\" }\n",
    "\t\t}\n",
    "\t},\n",
    "{\n",
    "  \"$limit\":3\n",
    "}\n",
    "]\n",
    "\n",
    "aggregate(question_collection, relevence_pipeline, printer)"
   ]
  }
 ],
 "metadata": {
  "kernelspec": {
   "display_name": "venv",
   "language": "python",
   "name": "python3"
  },
  "language_info": {
   "codemirror_mode": {
    "name": "ipython",
    "version": 3
   },
   "file_extension": ".py",
   "mimetype": "text/x-python",
   "name": "python",
   "nbconvert_exporter": "python",
   "pygments_lexer": "ipython3",
   "version": "3.12.3"
  }
 },
 "nbformat": 4,
 "nbformat_minor": 2
}
