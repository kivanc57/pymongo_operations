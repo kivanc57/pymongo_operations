{
 "cells": [
  {
   "cell_type": "code",
   "execution_count": 3,
   "metadata": {},
   "outputs": [],
   "source": [
    "import pyarrow\n",
    "from pymongoarrow.api import Schema\n",
    "from pymongoarrow.monkey import patch_all\n",
    "from pymongoarrow.api import write\n",
    "from bson import ObjectId"
   ]
  },
  {
   "cell_type": "code",
   "execution_count": 14,
   "metadata": {},
   "outputs": [
    {
     "name": "stdout",
     "output_type": "stream",
     "text": [
      "Connection to MongoDB is succesful!\n"
     ]
    }
   ],
   "source": [
    "from db_connection import get_client\n",
    "from utils import *\n",
    "\n",
    "printer = get_printer()\n",
    "client = get_client()\n",
    "production_db = client.production\n",
    "author_collection = production_db.author"
   ]
  },
  {
   "cell_type": "code",
   "execution_count": 25,
   "metadata": {},
   "outputs": [],
   "source": [
    "patch_all()\n",
    "\n",
    "schema_author = Schema({\"_id\": ObjectId,\n",
    "                        \"first_name\": pyarrow.string(),\n",
    "                        \"last_name\": pyarrow.string(),\n",
    "                        \"date_of_birth\": pyarrow.string()})"
   ]
  },
  {
   "cell_type": "code",
   "execution_count": 18,
   "metadata": {},
   "outputs": [
    {
     "data": {
      "text/plain": [
       "{'insertedCount': 10}"
      ]
     },
     "execution_count": 18,
     "metadata": {},
     "output_type": "execute_result"
    }
   ],
   "source": [
    "# Get the entities as df and write them back to db\n",
    "\n",
    "df = author_collection.find_pandas_all({}, schema=schema_author)\n",
    "write(production_db.pandas_data, df)"
   ]
  },
  {
   "cell_type": "code",
   "execution_count": 19,
   "metadata": {},
   "outputs": [
    {
     "data": {
      "text/plain": [
       "{'insertedCount': 10}"
      ]
     },
     "execution_count": 19,
     "metadata": {},
     "output_type": "execute_result"
    }
   ],
   "source": [
    "# Get the entities as arrow_table and write them back to db\n",
    "\n",
    "arrow_table = author_collection.find_arrow_all({}, schema=schema_author)\n",
    "write(production_db.arrow_data, arrow_table)"
   ]
  }
 ],
 "metadata": {
  "kernelspec": {
   "display_name": "venv",
   "language": "python",
   "name": "python3"
  },
  "language_info": {
   "codemirror_mode": {
    "name": "ipython",
    "version": 3
   },
   "file_extension": ".py",
   "mimetype": "text/x-python",
   "name": "python",
   "nbconvert_exporter": "python",
   "pygments_lexer": "ipython3",
   "version": "3.12.3"
  }
 },
 "nbformat": 4,
 "nbformat_minor": 2
}
