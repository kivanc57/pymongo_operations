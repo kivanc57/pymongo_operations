{
 "cells": [
  {
   "cell_type": "code",
   "execution_count": null,
   "metadata": {},
   "outputs": [],
   "source": [
    "# # Use this function to conig notebook with python. Use it only once for per script.\n",
    "# import os\n",
    "# import sys\n",
    "# def config_notebook():\n",
    "#   current_dir = os.path.dirname(os.path.abspath(\"__file__\"))\n",
    "#   sys.path.append(current_dir)\n",
    "#   print(sys.path)\n",
    "# config_notebook()"
   ]
  },
  {
   "cell_type": "code",
   "execution_count": 15,
   "metadata": {},
   "outputs": [],
   "source": [
    "from bson import ObjectId\n",
    "\n",
    "from utils import get_printer, insert_json_data\n",
    "from db_connection import get_client"
   ]
  },
  {
   "cell_type": "code",
   "execution_count": 16,
   "metadata": {},
   "outputs": [
    {
     "name": "stdout",
     "output_type": "stream",
     "text": [
      "Connection to MongoDB is succesful!\n"
     ]
    }
   ],
   "source": [
    "printer = get_printer()\n",
    "client = get_client()\n",
    "\n",
    "person_data_path = '../data/person_data.json'\n",
    "person_collection = client.production.person_collection"
   ]
  },
  {
   "cell_type": "code",
   "execution_count": 17,
   "metadata": {},
   "outputs": [
    {
     "name": "stdout",
     "output_type": "stream",
     "text": [
      "Inserted document amount:  10\n",
      "Inserted document IDs: [ObjectId('6785254e9a0d69a850b2ba33'), ObjectId('6785254e9a0d69a850b2ba34'), ObjectId('6785254e9a0d69a850b2ba35'), ObjectId('6785254e9a0d69a850b2ba36'), ObjectId('6785254e9a0d69a850b2ba37'), ObjectId('6785254e9a0d69a850b2ba38'), ObjectId('6785254e9a0d69a850b2ba39'), ObjectId('6785254e9a0d69a850b2ba3a'), ObjectId('6785254e9a0d69a850b2ba3b'), ObjectId('6785254e9a0d69a850b2ba3c')]\n"
     ]
    }
   ],
   "source": [
    "insert_json_data(person_collection, person_data_path)"
   ]
  },
  {
   "cell_type": "code",
   "execution_count": 5,
   "metadata": {},
   "outputs": [
    {
     "name": "stdout",
     "output_type": "stream",
     "text": [
      "Inserted document: {'_id': ObjectId('678521073c0644ec32624f59'), 'name': 'some_doc', 'type': 'test'}\n"
     ]
    }
   ],
   "source": [
    "def insert_test_doc(client):\n",
    "  collection = client.test_db.test_col\n",
    "  test_document = {\n",
    "    \"name\": \"some_doc\",\n",
    "    \"type\": \"test\"\n",
    "  }\n",
    "  inserted_doc = collection.insert_one(test_document)\n",
    "  result = collection.find_one({\"_id\": inserted_doc.inserted_id})\n",
    "  print(f\"Inserted document: {result}\")\n",
    "\n",
    "insert_test_doc(client)"
   ]
  },
  {
   "cell_type": "code",
   "execution_count": 20,
   "metadata": {},
   "outputs": [
    {
     "name": "stdout",
     "output_type": "stream",
     "text": [
      "{'_id': ObjectId('6784486cc074166f01b7869f'), 'first_name': 'Jan', 'last_name': 'Bart', 'age': 30}\n",
      "{'_id': ObjectId('6784486cc074166f01b786a0'), 'first_name': 'Jennifer', 'last_name': 'Pit', 'age': 10}\n",
      "{'_id': ObjectId('6784486cc074166f01b786a1'), 'first_name': 'Alice', 'last_name': 'Smith', 'age': 40}\n"
     ]
    }
   ],
   "source": [
    "def create_documents(collection):\n",
    "  first_names = [\"Jan\", \"Jennifer\", \"Alice\", \"Bob\", \"Catherine\", \"David\", \"Emma\", \"Frank\", \"Grace\"]\n",
    "  last_names = [\"Bart\", \"Pit\", \"Smith\", \"Johnson\", \"Williams\", \"Brown\", \"Jones\", \"Garcia\", \"Martinez\"]\n",
    "  ages = [30, 10, 40, 22, 35, 28, 18, 50, 45]\n",
    "\n",
    "  docs = []\n",
    "  for first_name, last_name, age in zip(first_names, last_names, ages):\n",
    "    doc = {\"first_name\": first_name, \"last_name\": last_name, \"age\": age}\n",
    "    docs.append(doc)\n",
    "  collection.insert_many(docs)\n",
    "\n",
    "  for doc in person_collection.find().limit(3):\n",
    "    print(doc)\n",
    "\n",
    "create_documents(person_collection)"
   ]
  },
  {
   "cell_type": "code",
   "execution_count": 33,
   "metadata": {},
   "outputs": [
    {
     "name": "stdout",
     "output_type": "stream",
     "text": [
      "{'_id': ObjectId('6784486cc074166f01b7869f'),\n",
      " 'age': 30,\n",
      " 'first_name': 'Jan',\n",
      " 'last_name': 'Bart'}\n",
      "{'_id': ObjectId('6784486cc074166f01b786a0'),\n",
      " 'age': 10,\n",
      " 'first_name': 'Jennifer',\n",
      " 'last_name': 'Pit'}\n",
      "{'_id': ObjectId('6784486cc074166f01b786a1'),\n",
      " 'age': 40,\n",
      " 'first_name': 'Alice',\n",
      " 'last_name': 'Smith'}\n"
     ]
    }
   ],
   "source": [
    "def find_all_ents(collection):\n",
    "  people = collection.find().limit(3)\n",
    "\n",
    "  for person in people:\n",
    "    printer.pprint(person)\n",
    "find_all_ents(person_collection)"
   ]
  },
  {
   "cell_type": "code",
   "execution_count": null,
   "metadata": {},
   "outputs": [
    {
     "name": "stdout",
     "output_type": "stream",
     "text": [
      "{'_id': ObjectId('6784486cc074166f01b786a7'),\n",
      " 'age': 45,\n",
      " 'first_name': 'Grace',\n",
      " 'last_name': 'Martinez'}\n"
     ]
    }
   ],
   "source": [
    "martinez = {\"last_name\": \"Martinez\"}\n",
    "\n",
    "def find_entity(collection, query):\n",
    "  entity = collection.find_one(query)\n",
    "  printer.pprint(entity)\n",
    "\n",
    "find_entity(person_collection, martinez)"
   ]
  },
  {
   "cell_type": "code",
   "execution_count": 103,
   "metadata": {},
   "outputs": [
    {
     "name": "stdout",
     "output_type": "stream",
     "text": [
      "Number of People: 18\n"
     ]
    }
   ],
   "source": [
    "def count_entities(collection):\n",
    "  count = collection.count_documents(filter={})\n",
    "  print(f\"Number of People: {count}\")\n",
    "count_entities(person_collection)"
   ]
  },
  {
   "cell_type": "code",
   "execution_count": 31,
   "metadata": {},
   "outputs": [
    {
     "name": "stdout",
     "output_type": "stream",
     "text": [
      "{'_id': ObjectId('6784486cc074166f01b786a2'),\n",
      " 'age': 22,\n",
      " 'first_name': 'Bob',\n",
      " 'last_name': 'Johnson'}\n"
     ]
    }
   ],
   "source": [
    "bob_id = '6784486cc074166f01b786a2'\n",
    "\n",
    "def find_one(id):\n",
    "  _id = ObjectId(id)\n",
    "  person= person_collection.find_one({\"_id\": _id})\n",
    "\n",
    "  if person:\n",
    "    printer.pprint(person)\n",
    "  else:\n",
    "    print(\"No person found with a given ID.\")\n",
    "\n",
    "find_one(bob_id)"
   ]
  },
  {
   "cell_type": "code",
   "execution_count": 18,
   "metadata": {},
   "outputs": [
    {
     "name": "stdout",
     "output_type": "stream",
     "text": [
      "People between 30-40 y.o:\n",
      "\n",
      "{'_id': ObjectId('67845a85e5cb4a4371b64317'),\n",
      " 'age': 30,\n",
      " 'first_name': 'Jan',\n",
      " 'last_name': 'Bart'}\n",
      "{'_id': ObjectId('6784495bc074166f01b786a8'),\n",
      " 'age': 30,\n",
      " 'first_name': 'Jan',\n",
      " 'last_name': 'Bart'}\n",
      "{'_id': ObjectId('6784486cc074166f01b7869f'),\n",
      " 'age': 30,\n",
      " 'first_name': 'Jan',\n",
      " 'last_name': 'Bart'}\n"
     ]
    }
   ],
   "source": [
    "def get_age_range(collection, min_age, max_age):\n",
    "  query = {\"$and\": [\n",
    "      {\"age\": {\"$gte\": min_age}},\n",
    "      {\"age\": {\"$lte\": max_age}}\n",
    "    ]}\n",
    "\n",
    "  filtered_people = collection.find(query).sort(\"age\").limit(3)\n",
    "  print(f\"People between {min_age}-{max_age} y.o:\\n\")\n",
    "  for person in filtered_people:\n",
    "    printer.pprint(person)\n",
    "\n",
    "get_age_range(person_collection, min_age=30, max_age=40)"
   ]
  },
  {
   "cell_type": "code",
   "execution_count": 19,
   "metadata": {},
   "outputs": [
    {
     "name": "stdout",
     "output_type": "stream",
     "text": [
      "Person projection without ID:\n",
      "\n",
      "{'first_name': 'Jan', 'last_name': 'Bart'}\n",
      "{'first_name': 'Jennifer', 'last_name': 'Pit'}\n",
      "{'first_name': 'Alice', 'last_name': 'Smith'}\n"
     ]
    }
   ],
   "source": [
    "person_projection = {\"_id\":0, \"first_name\": 1, \"last_name\": 1}\n",
    "\n",
    "def project_columns(query, collection):\n",
    "  filtered_people = collection.find({}, query).limit(3)\n",
    "\n",
    "  for person in filtered_people:\n",
    "    printer.pprint(person)\n",
    "\n",
    "print(\"Person projection without ID:\\n\")\n",
    "project_columns(person_projection, person_collection)"
   ]
  },
  {
   "cell_type": "code",
   "execution_count": 30,
   "metadata": {},
   "outputs": [
    {
     "name": "stdout",
     "output_type": "stream",
     "text": [
      "Updated entitiy:\n",
      "{'_id': ObjectId('6784495bc074166f01b786a9'), 'age': 13, 'firstName': 'Jennifer', 'lastName': 'Pit', 'new_field': True}\n"
     ]
    }
   ],
   "source": [
    "update_query = {\n",
    "    \"$set\": {\"new_field\": True},\n",
    "    \"$inc\": {\"age\": 1},\n",
    "    \"$rename\": {\"first_name\": \"firstName\", \"last_name\": \"lastName\"}\n",
    "  }\n",
    "\n",
    "def update_entity_by_id(id, collection, query):\n",
    "  _id = ObjectId(id)\n",
    "\n",
    "  collection.update_one({\"_id\": _id}, query)\n",
    "  updated_ent = collection.find_one({\"_id\": _id})\n",
    "  print(f\"Updated entitiy:\\n{updated_ent}\")\n",
    "\n",
    "update_entity_by_id('6784495bc074166f01b786a9', person_collection, update_query)"
   ]
  },
  {
   "cell_type": "code",
   "execution_count": 36,
   "metadata": {},
   "outputs": [
    {
     "name": "stdout",
     "output_type": "stream",
     "text": [
      "{'_id': ObjectId('6784495bc074166f01b786b0'),\n",
      " 'age': 24000,\n",
      " 'first_name': 'Gandalf',\n",
      " 'last_name': 'the Grey'}\n"
     ]
    }
   ],
   "source": [
    "doc_gandalf = {\n",
    "    \"first_name\": \"Gandalf\",\n",
    "    \"last_name\": \"the Grey\",\n",
    "    \"age\": 24000\n",
    "  }\n",
    "\n",
    "def replace_one(id, collection, new_doc):\n",
    "  _id = ObjectId(id)\n",
    "  collection.replace_one({\"_id\": _id}, new_doc)\n",
    "  updated_doc = collection.find_one({\"_id\": _id})\n",
    "  printer.pprint(updated_doc)\n",
    "\n",
    "replace_one('6784495bc074166f01b786b0', person_collection, doc_gandalf)\n"
   ]
  }
 ],
 "metadata": {
  "kernelspec": {
   "display_name": "venv",
   "language": "python",
   "name": "python3"
  },
  "language_info": {
   "codemirror_mode": {
    "name": "ipython",
    "version": 3
   },
   "file_extension": ".py",
   "mimetype": "text/x-python",
   "name": "python",
   "nbconvert_exporter": "python",
   "pygments_lexer": "ipython3",
   "version": "3.12.3"
  }
 },
 "nbformat": 4,
 "nbformat_minor": 2
}
