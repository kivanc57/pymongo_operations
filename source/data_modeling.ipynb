{
 "cells": [
  {
   "cell_type": "code",
   "execution_count": null,
   "metadata": {},
   "outputs": [],
   "source": [
    "# # Use this function to conig notebook with python. Use it only once for per script.\n",
    "# import os\n",
    "# import sys\n",
    "# def config_notebook():\n",
    "#   current_dir = os.path.dirname(os.path.abspath(\"__file__\"))\n",
    "#   sys.path.append(current_dir)\n",
    "#   print(sys.path)\n",
    "# config_notebook()"
   ]
  },
  {
   "cell_type": "code",
   "execution_count": 108,
   "metadata": {},
   "outputs": [],
   "source": [
    "import json\n",
    "def read_json_data(path):\n",
    "  try:\n",
    "    with open(path, 'r') as file:\n",
    "      return json.load(file)\n",
    "  except Exception as e:\n",
    "    print(f\"Failed reading '{path}': {e}\")\n"
   ]
  },
  {
   "cell_type": "code",
   "execution_count": 160,
   "metadata": {},
   "outputs": [],
   "source": [
    "from db_connection import get_client\n",
    "from utils import *"
   ]
  },
  {
   "cell_type": "code",
   "execution_count": 163,
   "metadata": {},
   "outputs": [
    {
     "name": "stdout",
     "output_type": "stream",
     "text": [
      "Connection to MongoDB is succesful!\n"
     ]
    }
   ],
   "source": [
    "printer = get_printer()\n",
    "client = get_client()\n",
    "production_db = client.production\n",
    "\n",
    "author_col_name = 'author'\n",
    "author_data_path = '../data/author_data.json'\n",
    "author_validator_path = '../schemas/author_schema.json'\n",
    "\n",
    "book_col_name = 'book'\n",
    "book_data_path = '../data/book_data.json'\n",
    "book_validatator_path = '../schemas/book_schema.json'"
   ]
  },
  {
   "cell_type": "code",
   "execution_count": 151,
   "metadata": {},
   "outputs": [
    {
     "data": {
      "text/plain": [
       "Collection(Database(MongoClient(host=['cluster0-shard-00-02.f5fvl.mongodb.net:27017', 'cluster0-shard-00-01.f5fvl.mongodb.net:27017', 'cluster0-shard-00-00.f5fvl.mongodb.net:27017'], document_class=dict, tz_aware=False, connect=True, authsource='admin', authmechanism='SCRAM-SHA-1', replicaset='atlas-gicwct-shard-0', tls=True), 'production'), 'book')"
      ]
     },
     "execution_count": 151,
     "metadata": {},
     "output_type": "execute_result"
    }
   ],
   "source": [
    "author_validator = read_json_data(author_validator_path)\n",
    "book_validator = read_json_data(book_validatator_path)\n",
    "\n",
    "production_db.create_collection(author_col_name, validator=author_validator)\n",
    "production_db.create_collection(book_col_name, validator=book_validator)"
   ]
  },
  {
   "cell_type": "code",
   "execution_count": 152,
   "metadata": {},
   "outputs": [
    {
     "name": "stdout",
     "output_type": "stream",
     "text": [
      "Inserted document amount:  10\n",
      "Inserted document IDs: [ObjectId('67853b61b909ea751b6406b8'), ObjectId('67853b61b909ea751b6406b9'), ObjectId('67853b61b909ea751b6406ba'), ObjectId('67853b61b909ea751b6406bb'), ObjectId('67853b61b909ea751b6406bc'), ObjectId('67853b61b909ea751b6406bd'), ObjectId('67853b61b909ea751b6406be'), ObjectId('67853b61b909ea751b6406bf'), ObjectId('67853b61b909ea751b6406c0'), ObjectId('67853b61b909ea751b6406c1')]\n",
      "Inserted document amount:  10\n",
      "Inserted document IDs: [ObjectId('67853b61b909ea751b6406c2'), ObjectId('67853b61b909ea751b6406c3'), ObjectId('67853b61b909ea751b6406c4'), ObjectId('67853b61b909ea751b6406c5'), ObjectId('67853b61b909ea751b6406c6'), ObjectId('67853b61b909ea751b6406c7'), ObjectId('67853b61b909ea751b6406c8'), ObjectId('67853b61b909ea751b6406c9'), ObjectId('67853b61b909ea751b6406ca'), ObjectId('67853b61b909ea751b6406cb')]\n"
     ]
    }
   ],
   "source": [
    "author_data = insert_json_data(production_db[author_col_name], author_data_path)\n",
    "book_data = insert_json_data(production_db[book_col_name], book_data_path)"
   ]
  },
  {
   "cell_type": "code",
   "execution_count": 159,
   "metadata": {},
   "outputs": [
    {
     "name": "stdout",
     "output_type": "stream",
     "text": [
      "[{'_id': ObjectId('67853b61b909ea751b6406b8'),\n",
      "  'books': [],\n",
      "  'date_of_birth': '1987-05-14',\n",
      "  'first_name': 'Sophia',\n",
      "  'last_name': 'Anderson'},\n",
      " {'_id': ObjectId('67853b61b909ea751b6406b9'),\n",
      "  'books': [],\n",
      "  'date_of_birth': '1991-09-23',\n",
      "  'first_name': 'Liam',\n",
      "  'last_name': 'White'},\n",
      " {'_id': ObjectId('67853b61b909ea751b6406ba'),\n",
      "  'books': [],\n",
      "  'date_of_birth': '1994-02-12',\n",
      "  'first_name': 'Olivia',\n",
      "  'last_name': 'Harris'}]\n"
     ]
    }
   ],
   "source": [
    "authors_and_books_pipeline = [\n",
    "  {\n",
    "    \"$lookup\": {\n",
    "      \"from\": \"book\",\n",
    "      \"localField\": \"_id\",\n",
    "      \"foreignField\": \"authors\",\n",
    "      \"as\": \"books\"\n",
    "    }\n",
    "  },\n",
    "  {\n",
    "    \"$limit\": 3\n",
    "  }\n",
    "]\n",
    "aggregate(production_db[author_col_name], authors_and_books_pipeline)"
   ]
  },
  {
   "cell_type": "code",
   "execution_count": 162,
   "metadata": {},
   "outputs": [
    {
     "name": "stdout",
     "output_type": "stream",
     "text": [
      "[{'_id': ObjectId('67853b61b909ea751b6406b8'),\n",
      "  'books': [],\n",
      "  'date_of_birth': '1987-05-14',\n",
      "  'first_name': 'Sophia',\n",
      "  'last_name': 'Anderson'},\n",
      " {'_id': ObjectId('67853b61b909ea751b6406b9'),\n",
      "  'books': [],\n",
      "  'date_of_birth': '1991-09-23',\n",
      "  'first_name': 'Liam',\n",
      "  'last_name': 'White'},\n",
      " {'_id': ObjectId('67853b61b909ea751b6406ba'),\n",
      "  'books': [],\n",
      "  'date_of_birth': '1994-02-12',\n",
      "  'first_name': 'Olivia',\n",
      "  'last_name': 'Harris'}]\n"
     ]
    }
   ],
   "source": [
    "authors_book_count_pipeline = [\n",
    "\t{\n",
    "\t\t\"$lookup\": {\n",
    "      \"from\": \"book\",\n",
    "\t\t\t\"localField\": \"_id\",\n",
    "\t\t\t\"foreignField\": \"authors\",\n",
    "\t\t\t\"as\": \"books\"\n",
    "      }\n",
    "\t},\n",
    "\t{\n",
    "\t\t\"$addFields\": {\n",
    "\t\t\t\"total_books\": {\"$size\": \"$books\"}\n",
    "      }\n",
    "\t},\n",
    "\t{\n",
    "\t\t\"$project\": {\n",
    "      \"first_name\": 1,\n",
    "\t\t\t\"last_name\": 1,\n",
    "\t\t\t\"total_books\": 1,\n",
    "\t\t\t\"_id\": 0\n",
    "      }\n",
    "\t}\n",
    "]\n",
    "aggregate(production_db[author_col_name], authors_and_books_pipeline)"
   ]
  },
  {
   "cell_type": "code",
   "execution_count": null,
   "metadata": {},
   "outputs": [],
   "source": [
    "patch_all()\n",
    "\n",
    "schema_author = Schema({\"_id\": ObjectId,\n",
    "                 \"first_name\": pyarrow.string(),\n",
    "                 \"last_name\": pyarrow.string(),\n",
    "                 \"date_of_birth\": dt})\n",
    "\n",
    "df = production.author.find_pandas_all({},schema=schema_author)\n",
    "arrow_table = production.author.find_arrow_all({}, schema=schema_author)\n",
    "ndarrays = production.author.find_numpy_all({}, schema=schema_author)\n",
    "print(ndarrays)\n"
   ]
  }
 ],
 "metadata": {
  "kernelspec": {
   "display_name": "venv",
   "language": "python",
   "name": "python3"
  },
  "language_info": {
   "codemirror_mode": {
    "name": "ipython",
    "version": 3
   },
   "file_extension": ".py",
   "mimetype": "text/x-python",
   "name": "python",
   "nbconvert_exporter": "python",
   "pygments_lexer": "ipython3",
   "version": "3.12.3"
  }
 },
 "nbformat": 4,
 "nbformat_minor": 2
}
